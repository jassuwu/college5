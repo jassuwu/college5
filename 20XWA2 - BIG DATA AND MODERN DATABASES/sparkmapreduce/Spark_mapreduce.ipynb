{
  "nbformat": 4,
  "nbformat_minor": 0,
  "metadata": {
    "colab": {
      "provenance": [],
      "collapsed_sections": []
    },
    "kernelspec": {
      "display_name": "Python 3",
      "name": "python3"
    }
  },
  "cells": [
    {
      "cell_type": "code",
      "metadata": {
        "colab": {
          "base_uri": "https://localhost:8080/"
        },
        "id": "XU_U4FgN75kC",
        "outputId": "1a54a829-3cd0-4d44-d0b0-0d8f17af2d19"
      },
      "source": [
        "!pip install pyspark\n",
        "import pyspark\n",
        "from pyspark import SparkContext as sc\n",
        "\n",
        "sc = pyspark.SparkContext('local[*]')"
      ],
      "execution_count": 1,
      "outputs": [
        {
          "output_type": "stream",
          "name": "stdout",
          "text": [
            "Looking in indexes: https://pypi.org/simple, https://us-python.pkg.dev/colab-wheels/public/simple/\n",
            "Collecting pyspark\n",
            "  Downloading pyspark-3.3.0.tar.gz (281.3 MB)\n",
            "\u001b[K     |████████████████████████████████| 281.3 MB 46 kB/s \n",
            "\u001b[?25hCollecting py4j==0.10.9.5\n",
            "  Downloading py4j-0.10.9.5-py2.py3-none-any.whl (199 kB)\n",
            "\u001b[K     |████████████████████████████████| 199 kB 53.3 MB/s \n",
            "\u001b[?25hBuilding wheels for collected packages: pyspark\n",
            "  Building wheel for pyspark (setup.py) ... \u001b[?25l\u001b[?25hdone\n",
            "  Created wheel for pyspark: filename=pyspark-3.3.0-py2.py3-none-any.whl size=281764026 sha256=1dee283a05e7ebfdf0368549b2922c2766307b65c678a793d42d132a90d25c31\n",
            "  Stored in directory: /root/.cache/pip/wheels/7a/8e/1b/f73a52650d2e5f337708d9f6a1750d451a7349a867f928b885\n",
            "Successfully built pyspark\n",
            "Installing collected packages: py4j, pyspark\n",
            "Successfully installed py4j-0.10.9.5 pyspark-3.3.0\n"
          ]
        }
      ]
    },
    {
      "cell_type": "code",
      "metadata": {
        "colab": {
          "base_uri": "https://localhost:8080/"
        },
        "id": "QImZoL8o8RPv",
        "outputId": "f3b57c7e-147c-4309-cc77-f8f3c01c5b50"
      },
      "source": [
        "words = \"to be or not to be\".split()\n",
        "words\n"
      ],
      "execution_count": 2,
      "outputs": [
        {
          "output_type": "execute_result",
          "data": {
            "text/plain": [
              "['to', 'be', 'or', 'not', 'to', 'be']"
            ]
          },
          "metadata": {},
          "execution_count": 2
        }
      ]
    },
    {
      "cell_type": "code",
      "metadata": {
        "colab": {
          "base_uri": "https://localhost:8080/"
        },
        "id": "UJRNv8Dx8XCe",
        "outputId": "b4e36214-1676-4968-b42d-bcc3d0fd18b2"
      },
      "source": [
        "words_rdd = sc.parallelize(words)\n",
        "words_rdd"
      ],
      "execution_count": 3,
      "outputs": [
        {
          "output_type": "execute_result",
          "data": {
            "text/plain": [
              "ParallelCollectionRDD[0] at readRDDFromFile at PythonRDD.scala:274"
            ]
          },
          "metadata": {},
          "execution_count": 3
        }
      ]
    },
    {
      "cell_type": "code",
      "metadata": {
        "colab": {
          "base_uri": "https://localhost:8080/"
        },
        "id": "6Z8cjNh38dWc",
        "outputId": "40914a61-1cc9-42d4-b377-10d28d74f1ae"
      },
      "source": [
        "word_tuples_rdd = words_rdd.map(lambda x: (x, 1))\n",
        "word_tuples_rdd"
      ],
      "execution_count": 4,
      "outputs": [
        {
          "output_type": "execute_result",
          "data": {
            "text/plain": [
              "PythonRDD[1] at RDD at PythonRDD.scala:53"
            ]
          },
          "metadata": {},
          "execution_count": 4
        }
      ]
    },
    {
      "cell_type": "code",
      "metadata": {
        "colab": {
          "base_uri": "https://localhost:8080/"
        },
        "id": "aaIEdvhJ8gRg",
        "outputId": "cf001089-653f-4fbc-96f6-82156473777d"
      },
      "source": [
        "word_tuples_rdd.collect()"
      ],
      "execution_count": 5,
      "outputs": [
        {
          "output_type": "execute_result",
          "data": {
            "text/plain": [
              "[('to', 1), ('be', 1), ('or', 1), ('not', 1), ('to', 1), ('be', 1)]"
            ]
          },
          "metadata": {},
          "execution_count": 5
        }
      ]
    },
    {
      "cell_type": "code",
      "metadata": {
        "colab": {
          "base_uri": "https://localhost:8080/"
        },
        "id": "1qpeUenF9-Tt",
        "outputId": "37ea0a09-b718-4819-c000-51292f3230c7"
      },
      "source": [
        "word_counts_rdd = word_tuples_rdd.reduceByKey(lambda x, y: x + y)\n",
        "word_counts_rdd"
      ],
      "execution_count": 6,
      "outputs": [
        {
          "output_type": "execute_result",
          "data": {
            "text/plain": [
              "PythonRDD[6] at RDD at PythonRDD.scala:53"
            ]
          },
          "metadata": {},
          "execution_count": 6
        }
      ]
    },
    {
      "cell_type": "code",
      "metadata": {
        "colab": {
          "base_uri": "https://localhost:8080/"
        },
        "id": "szdFEWRe-CKT",
        "outputId": "594c86af-d06d-493b-a494-518c19e263a1"
      },
      "source": [
        "word_counts = word_counts_rdd.collect()\n",
        "word_counts"
      ],
      "execution_count": 7,
      "outputs": [
        {
          "output_type": "execute_result",
          "data": {
            "text/plain": [
              "[('to', 2), ('be', 2), ('or', 1), ('not', 1)]"
            ]
          },
          "metadata": {},
          "execution_count": 7
        }
      ]
    },
    {
      "cell_type": "code",
      "metadata": {
        "colab": {
          "base_uri": "https://localhost:8080/"
        },
        "id": "VTjU7qPx-HWj",
        "outputId": "f8ebe710-e2c1-4551-a5ac-6d391dc35d49"
      },
      "source": [
        "word_counts_rdd.take(2)"
      ],
      "execution_count": null,
      "outputs": [
        {
          "output_type": "execute_result",
          "data": {
            "text/plain": [
              "[('to', 2), ('be', 2)]"
            ]
          },
          "metadata": {},
          "execution_count": 8
        }
      ]
    },
    {
      "cell_type": "code",
      "metadata": {
        "colab": {
          "base_uri": "https://localhost:8080/"
        },
        "id": "oaSy9mlE-RrO",
        "outputId": "d85097be-be3c-4c69-a331-5a77f92008af"
      },
      "source": [
        "text = \"to be or not to be\".split()\n",
        "rdd = sc.parallelize(text)\n",
        "counts = rdd.map(lambda word: (word, 1)).reduceByKey(lambda x, y: x + y)\n",
        "counts.collect()"
      ],
      "execution_count": null,
      "outputs": [
        {
          "output_type": "execute_result",
          "data": {
            "text/plain": [
              "[('to', 2), ('be', 2), ('or', 1), ('not', 1)]"
            ]
          },
          "metadata": {},
          "execution_count": 9
        }
      ]
    },
    {
      "cell_type": "code",
      "source": [
        "sales = [(\"A\", 10), (\"B\", 20), (\"C\", 30), (\"A\", 40), (\"D\", 10)]\n",
        "rdd = sc.parallelize(sales)\n",
        "totals = rdd.reduceByKey(lambda x, y: x+y)\n",
        "totals.collect()"
      ],
      "metadata": {
        "colab": {
          "base_uri": "https://localhost:8080/"
        },
        "id": "DRpoW8O7pMe8",
        "outputId": "47ef6810-5ef2-42d6-db1b-024062405c4a"
      },
      "execution_count": 8,
      "outputs": [
        {
          "output_type": "execute_result",
          "data": {
            "text/plain": [
              "[('C', 30), ('A', 50), ('B', 20), ('D', 10)]"
            ]
          },
          "metadata": {},
          "execution_count": 8
        }
      ]
    }
  ]
}