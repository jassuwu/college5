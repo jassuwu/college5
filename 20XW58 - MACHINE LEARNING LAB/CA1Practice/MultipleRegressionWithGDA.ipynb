{
 "cells": [
  {
   "cell_type": "code",
   "execution_count": 2,
   "metadata": {},
   "outputs": [],
   "source": [
    "import numpy as np\n",
    "import pandas as pd\n",
    "import matplotlib.pyplot as plt\n"
   ]
  },
  {
   "cell_type": "code",
   "execution_count": 3,
   "metadata": {},
   "outputs": [
    {
     "data": {
      "text/html": [
       "<div>\n",
       "<style scoped>\n",
       "    .dataframe tbody tr th:only-of-type {\n",
       "        vertical-align: middle;\n",
       "    }\n",
       "\n",
       "    .dataframe tbody tr th {\n",
       "        vertical-align: top;\n",
       "    }\n",
       "\n",
       "    .dataframe thead th {\n",
       "        text-align: right;\n",
       "    }\n",
       "</style>\n",
       "<table border=\"1\" class=\"dataframe\">\n",
       "  <thead>\n",
       "    <tr style=\"text-align: right;\">\n",
       "      <th></th>\n",
       "      <th>Unnamed: 0</th>\n",
       "      <th>Id</th>\n",
       "      <th>MSSubClass</th>\n",
       "      <th>MSZoning</th>\n",
       "      <th>LotArea</th>\n",
       "      <th>Street</th>\n",
       "      <th>LotShape</th>\n",
       "      <th>LandContour</th>\n",
       "      <th>Utilities</th>\n",
       "      <th>LotConfig</th>\n",
       "      <th>...</th>\n",
       "      <th>EnclosedPorch</th>\n",
       "      <th>3SsnPorch</th>\n",
       "      <th>ScreenPorch</th>\n",
       "      <th>PoolArea</th>\n",
       "      <th>MiscVal</th>\n",
       "      <th>MoSold</th>\n",
       "      <th>YrSold</th>\n",
       "      <th>SaleType</th>\n",
       "      <th>SaleCondition</th>\n",
       "      <th>SalePrice</th>\n",
       "    </tr>\n",
       "  </thead>\n",
       "  <tbody>\n",
       "    <tr>\n",
       "      <th>0</th>\n",
       "      <td>0</td>\n",
       "      <td>1</td>\n",
       "      <td>60</td>\n",
       "      <td>3</td>\n",
       "      <td>8450</td>\n",
       "      <td>1</td>\n",
       "      <td>3</td>\n",
       "      <td>3</td>\n",
       "      <td>0</td>\n",
       "      <td>4</td>\n",
       "      <td>...</td>\n",
       "      <td>0</td>\n",
       "      <td>0</td>\n",
       "      <td>0</td>\n",
       "      <td>0</td>\n",
       "      <td>0</td>\n",
       "      <td>2</td>\n",
       "      <td>2008</td>\n",
       "      <td>8</td>\n",
       "      <td>4</td>\n",
       "      <td>12.247694</td>\n",
       "    </tr>\n",
       "    <tr>\n",
       "      <th>1</th>\n",
       "      <td>1</td>\n",
       "      <td>2</td>\n",
       "      <td>20</td>\n",
       "      <td>3</td>\n",
       "      <td>9600</td>\n",
       "      <td>1</td>\n",
       "      <td>3</td>\n",
       "      <td>3</td>\n",
       "      <td>0</td>\n",
       "      <td>2</td>\n",
       "      <td>...</td>\n",
       "      <td>0</td>\n",
       "      <td>0</td>\n",
       "      <td>0</td>\n",
       "      <td>0</td>\n",
       "      <td>0</td>\n",
       "      <td>5</td>\n",
       "      <td>2007</td>\n",
       "      <td>8</td>\n",
       "      <td>4</td>\n",
       "      <td>12.109011</td>\n",
       "    </tr>\n",
       "    <tr>\n",
       "      <th>2</th>\n",
       "      <td>2</td>\n",
       "      <td>3</td>\n",
       "      <td>60</td>\n",
       "      <td>3</td>\n",
       "      <td>11250</td>\n",
       "      <td>1</td>\n",
       "      <td>0</td>\n",
       "      <td>3</td>\n",
       "      <td>0</td>\n",
       "      <td>4</td>\n",
       "      <td>...</td>\n",
       "      <td>0</td>\n",
       "      <td>0</td>\n",
       "      <td>0</td>\n",
       "      <td>0</td>\n",
       "      <td>0</td>\n",
       "      <td>9</td>\n",
       "      <td>2008</td>\n",
       "      <td>8</td>\n",
       "      <td>4</td>\n",
       "      <td>12.317167</td>\n",
       "    </tr>\n",
       "    <tr>\n",
       "      <th>3</th>\n",
       "      <td>3</td>\n",
       "      <td>4</td>\n",
       "      <td>70</td>\n",
       "      <td>3</td>\n",
       "      <td>9550</td>\n",
       "      <td>1</td>\n",
       "      <td>0</td>\n",
       "      <td>3</td>\n",
       "      <td>0</td>\n",
       "      <td>0</td>\n",
       "      <td>...</td>\n",
       "      <td>272</td>\n",
       "      <td>0</td>\n",
       "      <td>0</td>\n",
       "      <td>0</td>\n",
       "      <td>0</td>\n",
       "      <td>2</td>\n",
       "      <td>2006</td>\n",
       "      <td>8</td>\n",
       "      <td>0</td>\n",
       "      <td>11.849398</td>\n",
       "    </tr>\n",
       "    <tr>\n",
       "      <th>4</th>\n",
       "      <td>4</td>\n",
       "      <td>5</td>\n",
       "      <td>60</td>\n",
       "      <td>3</td>\n",
       "      <td>14260</td>\n",
       "      <td>1</td>\n",
       "      <td>0</td>\n",
       "      <td>3</td>\n",
       "      <td>0</td>\n",
       "      <td>2</td>\n",
       "      <td>...</td>\n",
       "      <td>0</td>\n",
       "      <td>0</td>\n",
       "      <td>0</td>\n",
       "      <td>0</td>\n",
       "      <td>0</td>\n",
       "      <td>12</td>\n",
       "      <td>2008</td>\n",
       "      <td>8</td>\n",
       "      <td>4</td>\n",
       "      <td>12.429216</td>\n",
       "    </tr>\n",
       "  </tbody>\n",
       "</table>\n",
       "<p>5 rows × 72 columns</p>\n",
       "</div>"
      ],
      "text/plain": [
       "   Unnamed: 0  Id  MSSubClass  MSZoning  LotArea  Street  LotShape  \\\n",
       "0           0   1          60         3     8450       1         3   \n",
       "1           1   2          20         3     9600       1         3   \n",
       "2           2   3          60         3    11250       1         0   \n",
       "3           3   4          70         3     9550       1         0   \n",
       "4           4   5          60         3    14260       1         0   \n",
       "\n",
       "   LandContour  Utilities  LotConfig  ...  EnclosedPorch  3SsnPorch  \\\n",
       "0            3          0          4  ...              0          0   \n",
       "1            3          0          2  ...              0          0   \n",
       "2            3          0          4  ...              0          0   \n",
       "3            3          0          0  ...            272          0   \n",
       "4            3          0          2  ...              0          0   \n",
       "\n",
       "   ScreenPorch  PoolArea  MiscVal  MoSold  YrSold  SaleType  SaleCondition  \\\n",
       "0            0         0        0       2    2008         8              4   \n",
       "1            0         0        0       5    2007         8              4   \n",
       "2            0         0        0       9    2008         8              4   \n",
       "3            0         0        0       2    2006         8              0   \n",
       "4            0         0        0      12    2008         8              4   \n",
       "\n",
       "   SalePrice  \n",
       "0  12.247694  \n",
       "1  12.109011  \n",
       "2  12.317167  \n",
       "3  11.849398  \n",
       "4  12.429216  \n",
       "\n",
       "[5 rows x 72 columns]"
      ]
     },
     "execution_count": 3,
     "metadata": {},
     "output_type": "execute_result"
    }
   ],
   "source": [
    "df = pd.read_csv('train.csv')\n",
    "df.head()"
   ]
  },
  {
   "cell_type": "code",
   "execution_count": 4,
   "metadata": {},
   "outputs": [],
   "source": [
    "df = df.drop(['Unnamed: 0', 'Id'], axis=1)"
   ]
  },
  {
   "cell_type": "code",
   "execution_count": 5,
   "metadata": {},
   "outputs": [
    {
     "name": "stdout",
     "output_type": "stream",
     "text": [
      "(1200, 69) (1200, 1)\n"
     ]
    }
   ],
   "source": [
    "train_data = df.values\n",
    "Y = train_data[:,-1].reshape(-1,1)\n",
    "X = train_data[:,:-1]\n",
    "print(X.shape, Y.shape)"
   ]
  },
  {
   "cell_type": "code",
   "execution_count": 6,
   "metadata": {},
   "outputs": [],
   "source": [
    "X = np.vstack((np.ones(X.shape[0],), X.T)).T"
   ]
  },
  {
   "cell_type": "code",
   "execution_count": 7,
   "metadata": {},
   "outputs": [],
   "source": [
    "def costFn(yPred, y):\n",
    "    return np.sum(np.square(yPred - y))\n",
    "\n",
    "def model(X, Y, learning_rate, iterations):\n",
    "    theta = np.zeros((X.shape[1], 1))\n",
    "    costs = []\n",
    "\n",
    "    for i in range(iterations):\n",
    "        yPred = np.dot(X, theta)\n",
    "        costs.append(costFn(yPred, Y))\n",
    "        theta -= learning_rate * np.dot(X.T, (yPred - Y))/(Y.size)\n",
    "\n",
    "    return theta, np.array(costs)\n"
   ]
  },
  {
   "cell_type": "code",
   "execution_count": 8,
   "metadata": {},
   "outputs": [],
   "source": [
    "theta, costs = model(X, Y,  0.0000000005, 10000)"
   ]
  },
  {
   "cell_type": "code",
   "execution_count": 18,
   "metadata": {},
   "outputs": [
    {
     "name": "stdout",
     "output_type": "stream",
     "text": [
      "[12.1410013] [12.24769432]\n"
     ]
    },
    {
     "data": {
      "image/png": "[encoded data removed]",
      "text/plain": [
       "<Figure size 640x480 with 1 Axes>"
      ]
     },
     "metadata": {},
     "output_type": "display_data"
    }
   ],
   "source": [
    "plt.plot(np.linspace(0,10,costs.size), costs)\n",
    "Xfirst = X[0]\n",
    "print(np.dot(Xfirst, theta), Y[0])"
   ]
  },
  {
   "cell_type": "code",
   "execution_count": 45,
   "metadata": {},
   "outputs": [
    {
     "data": {
      "text/plain": [
       "array([[ 8.91612723e-07],\n",
       "       [ 8.91612723e-07],\n",
       "       [ 5.37290723e-05],\n",
       "       [ 2.75040443e-06],\n",
       "       [-7.07826126e-07],\n",
       "       [ 8.95288561e-07],\n",
       "       [ 2.07570220e-06],\n",
       "       [ 2.53967206e-06],\n",
       "       [ 1.68333719e-09],\n",
       "       [ 2.93203306e-06],\n",
       "       [-3.55793363e-08],\n",
       "       [ 9.67077698e-06],\n",
       "       [ 1.78178903e-06],\n",
       "       [ 1.79313557e-06],\n",
       "       [ 7.18340110e-07],\n",
       "       [ 2.63350001e-06],\n",
       "       [ 4.43789484e-06],\n",
       "       [ 5.43858179e-06],\n",
       "       [ 1.75103961e-03],\n",
       "       [ 1.76441934e-03],\n",
       "       [ 9.44596385e-07],\n",
       "       [-1.17687371e-07],\n",
       "       [ 8.44216416e-06],\n",
       "       [ 9.19876091e-06],\n",
       "       [ 1.64412117e-06],\n",
       "       [-1.62145574e-05],\n",
       "       [ 2.65128678e-06],\n",
       "       [ 3.25870105e-06],\n",
       "       [ 1.14703339e-06],\n",
       "       [ 2.43811753e-06],\n",
       "       [ 2.56353872e-06],\n",
       "       [ 2.21067403e-06],\n",
       "       [ 2.32343060e-06],\n",
       "       [ 2.06062440e-04],\n",
       "       [ 4.12014320e-06],\n",
       "       [ 3.59835632e-05],\n",
       "       [ 1.47775300e-04],\n",
       "       [ 3.89821303e-04],\n",
       "       [ 9.27591856e-07],\n",
       "       [ 1.72939437e-06],\n",
       "       [ 8.31781688e-07],\n",
       "       [ 3.12162390e-06],\n",
       "       [ 2.41990183e-05],\n",
       "       [-8.17121675e-06],\n",
       "       [ 5.77335196e-04],\n",
       "       [ 2.97156376e-07],\n",
       "       [ 5.83730340e-08],\n",
       "       [ 8.81124818e-07],\n",
       "       [ 2.07630022e-07],\n",
       "       [ 1.86184782e-06],\n",
       "       [ 8.62987346e-07],\n",
       "       [ 2.50555047e-06],\n",
       "       [ 5.30947430e-06],\n",
       "       [ 1.21704837e-07],\n",
       "       [ 2.69555001e-06],\n",
       "       [ 1.45076251e-06],\n",
       "       [ 1.10790708e-06],\n",
       "       [ 3.45017173e-06],\n",
       "       [ 3.45017454e-06],\n",
       "       [ 1.65033527e-06],\n",
       "       [ 3.38054269e-05],\n",
       "       [ 1.25541102e-05],\n",
       "       [ 1.73406651e-05],\n",
       "       [ 3.22968676e-06],\n",
       "       [ 7.50509298e-06],\n",
       "       [-4.03592600e-06],\n",
       "       [ 3.56793215e-05],\n",
       "       [ 5.45809203e-06],\n",
       "       [ 1.79025669e-03],\n",
       "       [ 6.86060240e-06],\n",
       "       [ 3.44647126e-06]])"
      ]
     },
     "execution_count": 45,
     "metadata": {},
     "output_type": "execute_result"
    }
   ],
   "source": [
    "theta"
   ]
  },
  {
   "cell_type": "code",
   "execution_count": null,
   "metadata": {},
   "outputs": [],
   "source": []
  }
 ],
 "metadata": {
  "kernelspec": {
   "display_name": "Python 3.8.0 64-bit",
   "language": "python",
   "name": "python3"
  },
  "language_info": {
   "codemirror_mode": {
    "name": "ipython",
    "version": 3
   },
   "file_extension": ".py",
   "mimetype": "text/x-python",
   "name": "python",
   "nbconvert_exporter": "python",
   "pygments_lexer": "ipython3",
   "version": "3.8.0"
  },
  "orig_nbformat": 4,
  "vscode": {
   "interpreter": {
    "hash": "9af8f21c75c4a4b6a2c47fdd8858d9c18e769ab132f0206fb2cb4c6978b4bd5c"
   }
  }
 },
 "nbformat": 4,
 "nbformat_minor": 2
}
