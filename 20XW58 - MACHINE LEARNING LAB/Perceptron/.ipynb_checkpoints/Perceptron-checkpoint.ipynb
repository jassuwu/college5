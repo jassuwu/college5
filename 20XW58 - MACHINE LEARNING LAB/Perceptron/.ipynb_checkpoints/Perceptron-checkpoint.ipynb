{
 "cells": [
  {
   "cell_type": "code",
   "execution_count": 5,
   "id": "f89153cb",
   "metadata": {},
   "outputs": [],
   "source": [
    "import matplotlib.pyplot as plt\n",
    "from sklearn import datasets\n",
    "\n",
    "iris = datasets.load_iris()\n",
    "X = iris.data\n",
    "Y = iris.target"
   ]
  },
  {
   "cell_type": "code",
   "execution_count": 9,
   "id": "2f910544",
   "metadata": {},
   "outputs": [],
   "source": [
    "from sklearn.model_selection import train_test_split\n",
    "X_train, X_test, y_train, y_test = train_test_split(X, Y, test_size=0.2)"
   ]
  },
  {
   "cell_type": "code",
   "execution_count": 10,
   "id": "a9a9bf1a",
   "metadata": {},
   "outputs": [
    {
     "data": {
      "text/plain": [
       "Perceptron()"
      ]
     },
     "execution_count": 10,
     "metadata": {},
     "output_type": "execute_result"
    }
   ],
   "source": [
    "from sklearn.linear_model import Perceptron\n",
    "p = Perceptron()\n",
    "p.fit(X_train, y_train)"
   ]
  },
  {
   "cell_type": "code",
   "execution_count": null,
   "id": "ea2ebeb8",
   "metadata": {},
   "outputs": [],
   "source": [
    "from sklearn.metrics import accuracy_score\n",
    "trainPredictions = p.predict(X_train)\n",
    "testPredictions = p.predict(X_test)\n",
    "train_score = accuracy_score(trainPredictions, y_train)\n",
    "print(\"score on train data: \", train_score)\n",
    "test_score = accuracy_score(testPredictions, y_test)\n",
    "print(\"score on test data: \", test_score)"
   ]
  },
  {
   "cell_type": "code",
   "execution_count": 13,
   "id": "d7b388a0",
   "metadata": {},
   "outputs": [
    {
     "name": "stdout",
     "output_type": "stream",
     "text": [
      "(2, 1) D:\n",
      "(1, 1) :D\n",
      "(1, 1) :D\n",
      "(2, 1) D:\n",
      "(0, 0) :D\n",
      "(1, 1) :D\n",
      "(2, 1) D:\n",
      "(2, 1) D:\n",
      "(1, 1) :D\n",
      "(2, 2) :D\n",
      "(1, 1) :D\n",
      "(0, 0) :D\n",
      "(2, 2) :D\n",
      "(2, 2) :D\n",
      "(2, 1) D:\n",
      "(2, 1) D:\n",
      "(2, 1) D:\n",
      "(0, 0) :D\n",
      "(0, 0) :D\n",
      "(2, 2) :D\n",
      "(0, 0) :D\n",
      "(2, 1) D:\n",
      "(1, 1) :D\n",
      "(1, 1) :D\n",
      "(2, 2) :D\n",
      "(2, 1) D:\n",
      "(1, 1) :D\n",
      "(1, 1) :D\n",
      "(2, 2) :D\n",
      "(2, 1) D:\n"
     ]
    }
   ],
   "source": [
    "for i in zip(y_test, testPredictions):\n",
    "    if(i[0]==i[1]):\n",
    "        print(i, \":D\")\n",
    "    else:\n",
    "        print(i, \"D:\")"
   ]
  },
  {
   "cell_type": "code",
   "execution_count": null,
   "id": "2abd9517",
   "metadata": {},
   "outputs": [],
   "source": []
  }
 ],
 "metadata": {
  "kernelspec": {
   "display_name": "Python 3 (ipykernel)",
   "language": "python",
   "name": "python3"
  },
  "language_info": {
   "codemirror_mode": {
    "name": "ipython",
    "version": 3
   },
   "file_extension": ".py",
   "mimetype": "text/x-python",
   "name": "python",
   "nbconvert_exporter": "python",
   "pygments_lexer": "ipython3",
   "version": "3.9.7"
  }
 },
 "nbformat": 4,
 "nbformat_minor": 5
}
