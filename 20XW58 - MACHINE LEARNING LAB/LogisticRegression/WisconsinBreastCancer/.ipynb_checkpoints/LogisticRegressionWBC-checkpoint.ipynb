{
 "cells": [
  {
   "cell_type": "code",
   "execution_count": 1,
   "id": "fff25b24",
   "metadata": {},
   "outputs": [],
   "source": [
    "import numpy as np\n",
    "import pandas as pd\n",
    "import matplotlib.pyplot as plt\n",
    "from sklearn.preprocessing import LabelEncoder, normalize\n",
    "from sklearn.model_selection import train_test_split"
   ]
  },
  {
   "cell_type": "code",
   "execution_count": 2,
   "id": "d935d8dc",
   "metadata": {},
   "outputs": [
    {
     "data": {
      "text/html": [
       "<div>\n",
       "<style scoped>\n",
       "    .dataframe tbody tr th:only-of-type {\n",
       "        vertical-align: middle;\n",
       "    }\n",
       "\n",
       "    .dataframe tbody tr th {\n",
       "        vertical-align: top;\n",
       "    }\n",
       "\n",
       "    .dataframe thead th {\n",
       "        text-align: right;\n",
       "    }\n",
       "</style>\n",
       "<table border=\"1\" class=\"dataframe\">\n",
       "  <thead>\n",
       "    <tr style=\"text-align: right;\">\n",
       "      <th></th>\n",
       "      <th>id</th>\n",
       "      <th>diagnosis</th>\n",
       "      <th>radius_mean</th>\n",
       "      <th>texture_mean</th>\n",
       "      <th>perimeter_mean</th>\n",
       "      <th>area_mean</th>\n",
       "      <th>smoothness_mean</th>\n",
       "      <th>compactness_mean</th>\n",
       "      <th>concavity_mean</th>\n",
       "      <th>concave points_mean</th>\n",
       "      <th>...</th>\n",
       "      <th>texture_worst</th>\n",
       "      <th>perimeter_worst</th>\n",
       "      <th>area_worst</th>\n",
       "      <th>smoothness_worst</th>\n",
       "      <th>compactness_worst</th>\n",
       "      <th>concavity_worst</th>\n",
       "      <th>concave points_worst</th>\n",
       "      <th>symmetry_worst</th>\n",
       "      <th>fractal_dimension_worst</th>\n",
       "      <th>Unnamed: 32</th>\n",
       "    </tr>\n",
       "  </thead>\n",
       "  <tbody>\n",
       "    <tr>\n",
       "      <th>0</th>\n",
       "      <td>842302</td>\n",
       "      <td>M</td>\n",
       "      <td>17.99</td>\n",
       "      <td>10.38</td>\n",
       "      <td>122.80</td>\n",
       "      <td>1001.0</td>\n",
       "      <td>0.11840</td>\n",
       "      <td>0.27760</td>\n",
       "      <td>0.3001</td>\n",
       "      <td>0.14710</td>\n",
       "      <td>...</td>\n",
       "      <td>17.33</td>\n",
       "      <td>184.60</td>\n",
       "      <td>2019.0</td>\n",
       "      <td>0.1622</td>\n",
       "      <td>0.6656</td>\n",
       "      <td>0.7119</td>\n",
       "      <td>0.2654</td>\n",
       "      <td>0.4601</td>\n",
       "      <td>0.11890</td>\n",
       "      <td>NaN</td>\n",
       "    </tr>\n",
       "    <tr>\n",
       "      <th>1</th>\n",
       "      <td>842517</td>\n",
       "      <td>M</td>\n",
       "      <td>20.57</td>\n",
       "      <td>17.77</td>\n",
       "      <td>132.90</td>\n",
       "      <td>1326.0</td>\n",
       "      <td>0.08474</td>\n",
       "      <td>0.07864</td>\n",
       "      <td>0.0869</td>\n",
       "      <td>0.07017</td>\n",
       "      <td>...</td>\n",
       "      <td>23.41</td>\n",
       "      <td>158.80</td>\n",
       "      <td>1956.0</td>\n",
       "      <td>0.1238</td>\n",
       "      <td>0.1866</td>\n",
       "      <td>0.2416</td>\n",
       "      <td>0.1860</td>\n",
       "      <td>0.2750</td>\n",
       "      <td>0.08902</td>\n",
       "      <td>NaN</td>\n",
       "    </tr>\n",
       "    <tr>\n",
       "      <th>2</th>\n",
       "      <td>84300903</td>\n",
       "      <td>M</td>\n",
       "      <td>19.69</td>\n",
       "      <td>21.25</td>\n",
       "      <td>130.00</td>\n",
       "      <td>1203.0</td>\n",
       "      <td>0.10960</td>\n",
       "      <td>0.15990</td>\n",
       "      <td>0.1974</td>\n",
       "      <td>0.12790</td>\n",
       "      <td>...</td>\n",
       "      <td>25.53</td>\n",
       "      <td>152.50</td>\n",
       "      <td>1709.0</td>\n",
       "      <td>0.1444</td>\n",
       "      <td>0.4245</td>\n",
       "      <td>0.4504</td>\n",
       "      <td>0.2430</td>\n",
       "      <td>0.3613</td>\n",
       "      <td>0.08758</td>\n",
       "      <td>NaN</td>\n",
       "    </tr>\n",
       "    <tr>\n",
       "      <th>3</th>\n",
       "      <td>84348301</td>\n",
       "      <td>M</td>\n",
       "      <td>11.42</td>\n",
       "      <td>20.38</td>\n",
       "      <td>77.58</td>\n",
       "      <td>386.1</td>\n",
       "      <td>0.14250</td>\n",
       "      <td>0.28390</td>\n",
       "      <td>0.2414</td>\n",
       "      <td>0.10520</td>\n",
       "      <td>...</td>\n",
       "      <td>26.50</td>\n",
       "      <td>98.87</td>\n",
       "      <td>567.7</td>\n",
       "      <td>0.2098</td>\n",
       "      <td>0.8663</td>\n",
       "      <td>0.6869</td>\n",
       "      <td>0.2575</td>\n",
       "      <td>0.6638</td>\n",
       "      <td>0.17300</td>\n",
       "      <td>NaN</td>\n",
       "    </tr>\n",
       "    <tr>\n",
       "      <th>4</th>\n",
       "      <td>84358402</td>\n",
       "      <td>M</td>\n",
       "      <td>20.29</td>\n",
       "      <td>14.34</td>\n",
       "      <td>135.10</td>\n",
       "      <td>1297.0</td>\n",
       "      <td>0.10030</td>\n",
       "      <td>0.13280</td>\n",
       "      <td>0.1980</td>\n",
       "      <td>0.10430</td>\n",
       "      <td>...</td>\n",
       "      <td>16.67</td>\n",
       "      <td>152.20</td>\n",
       "      <td>1575.0</td>\n",
       "      <td>0.1374</td>\n",
       "      <td>0.2050</td>\n",
       "      <td>0.4000</td>\n",
       "      <td>0.1625</td>\n",
       "      <td>0.2364</td>\n",
       "      <td>0.07678</td>\n",
       "      <td>NaN</td>\n",
       "    </tr>\n",
       "  </tbody>\n",
       "</table>\n",
       "<p>5 rows × 33 columns</p>\n",
       "</div>"
      ],
      "text/plain": [
       "         id diagnosis  radius_mean  texture_mean  perimeter_mean  area_mean  \\\n",
       "0    842302         M        17.99         10.38          122.80     1001.0   \n",
       "1    842517         M        20.57         17.77          132.90     1326.0   \n",
       "2  84300903         M        19.69         21.25          130.00     1203.0   \n",
       "3  84348301         M        11.42         20.38           77.58      386.1   \n",
       "4  84358402         M        20.29         14.34          135.10     1297.0   \n",
       "\n",
       "   smoothness_mean  compactness_mean  concavity_mean  concave points_mean  \\\n",
       "0          0.11840           0.27760          0.3001              0.14710   \n",
       "1          0.08474           0.07864          0.0869              0.07017   \n",
       "2          0.10960           0.15990          0.1974              0.12790   \n",
       "3          0.14250           0.28390          0.2414              0.10520   \n",
       "4          0.10030           0.13280          0.1980              0.10430   \n",
       "\n",
       "   ...  texture_worst  perimeter_worst  area_worst  smoothness_worst  \\\n",
       "0  ...          17.33           184.60      2019.0            0.1622   \n",
       "1  ...          23.41           158.80      1956.0            0.1238   \n",
       "2  ...          25.53           152.50      1709.0            0.1444   \n",
       "3  ...          26.50            98.87       567.7            0.2098   \n",
       "4  ...          16.67           152.20      1575.0            0.1374   \n",
       "\n",
       "   compactness_worst  concavity_worst  concave points_worst  symmetry_worst  \\\n",
       "0             0.6656           0.7119                0.2654          0.4601   \n",
       "1             0.1866           0.2416                0.1860          0.2750   \n",
       "2             0.4245           0.4504                0.2430          0.3613   \n",
       "3             0.8663           0.6869                0.2575          0.6638   \n",
       "4             0.2050           0.4000                0.1625          0.2364   \n",
       "\n",
       "   fractal_dimension_worst  Unnamed: 32  \n",
       "0                  0.11890          NaN  \n",
       "1                  0.08902          NaN  \n",
       "2                  0.08758          NaN  \n",
       "3                  0.17300          NaN  \n",
       "4                  0.07678          NaN  \n",
       "\n",
       "[5 rows x 33 columns]"
      ]
     },
     "execution_count": 2,
     "metadata": {},
     "output_type": "execute_result"
    }
   ],
   "source": [
    "#import the csv\n",
    "df = pd.read_csv(\"wcb.csv\")\n",
    "df.head()"
   ]
  },
  {
   "cell_type": "code",
   "execution_count": 3,
   "id": "d2fedf5b",
   "metadata": {
    "scrolled": true
   },
   "outputs": [],
   "source": [
    "#Cleaning the dataset + preprocessing\n",
    "l = LabelEncoder()\n",
    "l.fit(df['diagnosis'])\n",
    "df['diagnosis'] = l.transform(df['diagnosis'])\n",
    "\n",
    "X = df.drop(['id', 'diagnosis', 'Unnamed: 32'], axis=1)\n",
    "Y = df['diagnosis'].values\n",
    "Xnames = X.columns\n",
    "#X is normalized\n",
    "# X = pd.DataFrame(normalize(X.values), columns = Xnames)"
   ]
  },
  {
   "cell_type": "code",
   "execution_count": 4,
   "id": "940ff168",
   "metadata": {},
   "outputs": [
    {
     "name": "stdout",
     "output_type": "stream",
     "text": [
      "\n",
      "\n",
      "Features before removing multicollinearity:  Index(['radius_mean', 'texture_mean', 'perimeter_mean', 'area_mean',\n",
      "       'smoothness_mean', 'compactness_mean', 'concavity_mean',\n",
      "       'concave points_mean', 'symmetry_mean', 'fractal_dimension_mean',\n",
      "       'radius_se', 'texture_se', 'perimeter_se', 'area_se', 'smoothness_se',\n",
      "       'compactness_se', 'concavity_se', 'concave points_se', 'symmetry_se',\n",
      "       'fractal_dimension_se', 'radius_worst', 'texture_worst',\n",
      "       'perimeter_worst', 'area_worst', 'smoothness_worst',\n",
      "       'compactness_worst', 'concavity_worst', 'concave points_worst',\n",
      "       'symmetry_worst', 'fractal_dimension_worst'],\n",
      "      dtype='object')\n",
      "\n",
      "\n",
      "Features after removing multicollinearity:\n",
      " ['symmetry_mean', 'texture_se', 'smoothness_se', 'concave points_se', 'symmetry_se', 'fractal_dimension_se', 'texture_worst', 'smoothness_worst', 'concave points_worst', 'symmetry_worst', 'fractal_dimension_worst']\n"
     ]
    }
   ],
   "source": [
    "#Reducing multicollinearity\n",
    "final_features = [x for x in Xnames]\n",
    "p = df[Xnames].corr().values.tolist()\n",
    "for i in range(len(p)):\n",
    "    for j in range(i+1, len(p)):\n",
    "        if abs(p[i][j]) > 0.7 and Xnames[i] in final_features:\n",
    "            final_features.remove(Xnames[i])\n",
    "print(\"\\n\\nFeatures before removing multicollinearity: \", Xnames)\n",
    "print(\"\\n\\nFeatures after removing multicollinearity:\\n\", final_features)"
   ]
  },
  {
   "cell_type": "code",
   "execution_count": 5,
   "id": "d86a1238",
   "metadata": {},
   "outputs": [],
   "source": [
    "# Outlier Treatment\n",
    "def outlier_treatment(df, feature):\n",
    "    q1, q3 = np.percentile(df[feature], [25, 75])\n",
    "    IQR = q3 - q1 \n",
    "    lower_range = q1 - (3 * IQR) \n",
    "    upper_range = q3 + (3 * IQR)\n",
    "    to_drop = df[(df[feature]<lower_range)|(df[feature]>upper_range)]\n",
    "    df.drop(to_drop.index, inplace=True)\n",
    "\n",
    "outlier_treatment(df, 'diagnosis')"
   ]
  },
  {
   "cell_type": "code",
   "execution_count": 6,
   "id": "90cd8b04",
   "metadata": {},
   "outputs": [],
   "source": [
    "#Splitting the dataset\n",
    "X_train, X_test, Y_train, Y_test = train_test_split(X, Y, test_size=0.2, random_state=0)"
   ]
  },
  {
   "cell_type": "code",
   "execution_count": 30,
   "id": "d8152a15",
   "metadata": {},
   "outputs": [],
   "source": [
    "def sigmoid(Z):\n",
    "    Z = np.array(Z, dtype='float64')\n",
    "    return 1/(1 + np.exp(-Z))\n",
    "\n",
    "def logisticRegression(X, Y, thold, learningRate, iterations):\n",
    "    X = np.vstack((np.ones((X.shape[0],)), X.T)).T\n",
    "    wT=np.zeros((X.shape[1], 1)).T\n",
    "    costs = []\n",
    "    for i in range(iterations):\n",
    "        wTx = np.dot(wT, X.T)\n",
    "        A = sigmoid(wTx)\n",
    "        wPred = np.array([1 if x >= thold else 0 for x in A[0]])\n",
    "        costs.append(np.sum(np.square(wPred - Y)))\n",
    "        dW = np.dot(X.T, (wPred - Y)) / (Y.size) \n",
    "#         dW = \n",
    "        wT = wT - learningRate * dW\n",
    "    return wT, np.array(costs)"
   ]
  },
  {
   "cell_type": "code",
   "execution_count": 31,
   "id": "e58be905",
   "metadata": {},
   "outputs": [
    {
     "data": {
      "text/plain": [
       "array([[-4.13551648e-03, -2.77716486e-02, -1.89911802e-03,\n",
       "        -6.59898154e-02, -7.62986813e-04,  5.29009574e-04,\n",
       "         3.23515562e-03,  4.51641093e-03,  1.86000380e-03,\n",
       "         1.08662440e-03,  1.56680136e-04, -7.38463160e-04,\n",
       "        -3.48125078e-03,  7.13686189e-03,  1.30288635e-02,\n",
       "         4.93072275e-05,  7.36886096e-04,  9.50093101e-04,\n",
       "         2.30867977e-04,  2.25306485e-04,  5.40211746e-05,\n",
       "        -2.96354276e-02,  3.12792143e-02,  1.39328923e-02,\n",
       "         6.19612967e-03,  1.08723517e-03,  1.11015994e-02,\n",
       "         1.33399564e-02,  3.81124642e-03,  3.23944116e-03,\n",
       "         9.92319168e-04]])"
      ]
     },
     "execution_count": 31,
     "metadata": {},
     "output_type": "execute_result"
    }
   ],
   "source": [
    "W, costs = logisticRegression(X_train, Y_train, 0.5, 0.00001,100000)\n",
    "W"
   ]
  },
  {
   "cell_type": "code",
   "execution_count": 32,
   "id": "dd97d936",
   "metadata": {},
   "outputs": [
    {
     "data": {
      "text/plain": [
       "[<matplotlib.lines.Line2D at 0x20a3a232520>]"
      ]
     },
     "execution_count": 32,
     "metadata": {},
     "output_type": "execute_result"
    },
    {
     "data": {
      "image/png": "[encoded data removed]",
      "text/plain": [
       "<Figure size 432x288 with 1 Axes>"
      ]
     },
     "metadata": {
      "needs_background": "light"
     },
     "output_type": "display_data"
    }
   ],
   "source": [
    "#Plotting the cost function\n",
    "plt.plot(costs)"
   ]
  },
  {
   "cell_type": "code",
   "execution_count": 33,
   "id": "6e82b448",
   "metadata": {},
   "outputs": [],
   "source": [
    "def predict(X, Y, W):\n",
    "    X = np.vstack((np.ones((X.shape[0],)), X.T)).T\n",
    "    wTx = np.dot(W, X.T)\n",
    "    A = sigmoid(wTx)\n",
    "    wPred = np.array([1 if x >= 0.5 else 0 for x in A[0]])\n",
    "#     print(\"Accuracy: \", np.sum(wPred == Y)/Y.size)    \n",
    "    return wPred"
   ]
  },
  {
   "cell_type": "code",
   "execution_count": 34,
   "id": "50d07516",
   "metadata": {},
   "outputs": [
    {
     "name": "stdout",
     "output_type": "stream",
     "text": [
      "Accuracy:  0.8947368421052632\n",
      "Precision for 0:  0.9104477611940298\n",
      "Precision for 1:  1.127659574468085\n"
     ]
    }
   ],
   "source": [
    "dP = predict(X_test, Y_test, W)\n",
    "def parseDiagnosis(x):\n",
    "    return np.array([\"Malignant\" if i == 0 else \"Benign\" for i in x])\n",
    "parsedDiagnosisPred = parseDiagnosis(dP)"
   ]
  },
  {
   "cell_type": "code",
   "execution_count": 35,
   "id": "6b519952",
   "metadata": {},
   "outputs": [
    {
     "data": {
      "text/plain": [
       "array([1, 0, 0, 1, 0, 0, 0, 0, 0, 0, 0, 1, 0, 1, 0, 1, 0, 1, 1, 1, 1, 1,\n",
       "       0, 0, 1, 0, 0, 0, 0, 1, 0, 1, 0, 1, 0, 1, 0, 1, 0, 1, 1, 0, 1, 0,\n",
       "       1, 1, 0, 0, 0, 1, 1, 0, 1, 0, 0, 0, 0, 1, 0, 1, 1, 1, 0, 0, 1, 1,\n",
       "       1, 1, 1, 0, 1, 1, 0, 0, 1, 0, 0, 0, 0, 0, 1, 1, 1, 0, 1, 0, 0, 0,\n",
       "       1, 1, 0, 1, 1, 1, 0, 0, 1, 0, 0, 0, 0, 0, 0, 0, 1, 0, 1, 1, 1, 1,\n",
       "       0, 1, 1, 0])"
      ]
     },
     "execution_count": 35,
     "metadata": {},
     "output_type": "execute_result"
    }
   ],
   "source": [
    "dP"
   ]
  },
  {
   "cell_type": "code",
   "execution_count": 24,
   "id": "b03a0246",
   "metadata": {},
   "outputs": [],
   "source": [
    "trueOrFalse = []\n",
    "for i in zip(dP,dP == Y_test):\n",
    "    trueOrFalse.append(i)\n",
    "trueOrFalse = np.array(trueOrFalse)"
   ]
  },
  {
   "cell_type": "code",
   "execution_count": 25,
   "id": "4ad516a4",
   "metadata": {},
   "outputs": [],
   "source": [
    "TP = FP = TN = FN = 0\n",
    "for i,j in trueOrFalse:\n",
    "    if i == 1 and j == 1:\n",
    "        TP+=1\n",
    "    elif i == 0 and j == 1:\n",
    "        TN+=1\n",
    "    elif i == 1 and j == 0:\n",
    "        FN+=1\n",
    "    elif i == 0 and j == 0:\n",
    "        FP+=1\n",
    "    else:\n",
    "        print(f\"{i},{j} <-- idk what to do with this\")"
   ]
  },
  {
   "cell_type": "code",
   "execution_count": 26,
   "id": "b3d0013a",
   "metadata": {},
   "outputs": [],
   "source": [
    "def analyseMeasures(TP, FP, TN, FN):\n",
    "    print(\"Accuracy : \", (TP + TN)/ (TP + TN + FP + FN))\n",
    "    print(\"Precision : for P class : \", TP/(TP+FP),\" for N class : \", TN/(TN+FN))\n",
    "    print(\"Recall : for P class : \", TP/(TP+FN),\" for N class : \", TN/(TN+FP))\n",
    "    print(\"F-Measure : for P class : \", 2*(TP/(TP+FP))*(TP/(TP+FN))/((TP/(TP+FN))+(TP/(TP+FP))), \" for N class : \", 2*(TN/(TN+FN))*(TN/(TN+FP))/((TN/(TN+FP))+(TN/(TN+FN))))\n",
    "    print(\"True Positive Rate : \", TP/(TP+FN))\n",
    "    print(\"False Positive Rate : \", FP/(TN+FP))\n",
    "    print(\"True Positive Rate : \", TN/(TN+FP))\n",
    "    print(\"False Positive Rate : \", FN/(TP+FN))    "
   ]
  },
  {
   "cell_type": "code",
   "execution_count": 27,
   "id": "3e0bf951",
   "metadata": {},
   "outputs": [
    {
     "name": "stdout",
     "output_type": "stream",
     "text": [
      "Accuracy :  0.8947368421052632\n",
      "Precision : for P class :  0.9361702127659575  for N class :  0.8656716417910447\n",
      "Recall : for P class :  0.8301886792452831  for N class :  0.9508196721311475\n",
      "F-Measure : for P class :  0.88  for N class :  0.9062499999999999\n",
      "True Positive Rate :  0.8301886792452831\n",
      "False Positive Rate :  0.04918032786885246\n",
      "True Positive Rate :  0.9508196721311475\n",
      "False Positive Rate :  0.16981132075471697\n"
     ]
    }
   ],
   "source": [
    "analyseMeasures(TP, FP, TN, FN)"
   ]
  },
  {
   "cell_type": "code",
   "execution_count": 28,
   "id": "08a9b89d",
   "metadata": {},
   "outputs": [
    {
     "data": {
      "text/plain": [
       "12"
      ]
     },
     "execution_count": 28,
     "metadata": {},
     "output_type": "execute_result"
    }
   ],
   "source": [
    "FP+FN # No. of miscalculations"
   ]
  },
  {
   "cell_type": "code",
   "execution_count": null,
   "id": "a39ce270",
   "metadata": {},
   "outputs": [],
   "source": []
  }
 ],
 "metadata": {
  "kernelspec": {
   "display_name": "Python 3 (ipykernel)",
   "language": "python",
   "name": "python3"
  },
  "language_info": {
   "codemirror_mode": {
    "name": "ipython",
    "version": 3
   },
   "file_extension": ".py",
   "mimetype": "text/x-python",
   "name": "python",
   "nbconvert_exporter": "python",
   "pygments_lexer": "ipython3",
   "version": "3.9.7"
  },
  "vscode": {
   "interpreter": {
    "hash": "9af8f21c75c4a4b6a2c47fdd8858d9c18e769ab132f0206fb2cb4c6978b4bd5c"
   }
  }
 },
 "nbformat": 4,
 "nbformat_minor": 5
}
