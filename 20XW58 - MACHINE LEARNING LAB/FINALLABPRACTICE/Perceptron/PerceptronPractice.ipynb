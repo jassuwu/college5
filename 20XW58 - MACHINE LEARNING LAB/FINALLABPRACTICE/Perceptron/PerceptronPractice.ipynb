{
 "cells": [
  {
   "cell_type": "code",
   "execution_count": 1,
   "metadata": {},
   "outputs": [],
   "source": [
    "import numpy as np\n",
    "import matplotlib.pyplot as plt\n",
    "from sklearn.model_selection import train_test_split\n",
    "from sklearn.datasets import load_breast_cancer\n",
    "import math"
   ]
  },
  {
   "cell_type": "code",
   "execution_count": 2,
   "metadata": {},
   "outputs": [],
   "source": [
    "def unit_step_func(x):\n",
    "        return np.where(x >= 0, 1, 0)\n",
    "\n",
    "def ReLU(x):\n",
    "        return np.where(x >= 0, x, 0)\n",
    "\n",
    "def sigmoid(x):\n",
    "    return np.where(1/(1 + np.exp(-x)) >= 0.5, 1, 0)"
   ]
  },
  {
   "cell_type": "code",
   "execution_count": 3,
   "metadata": {},
   "outputs": [],
   "source": [
    "class Perceptron:\n",
    "    def __init__(self, eta=0.01, iters=1000, activation_func=unit_step_func):\n",
    "        self.eta = eta\n",
    "        self.iters = iters\n",
    "        self.activation_func = activation_func\n",
    "        self.weights = None\n",
    "        self.bias = None\n",
    "\n",
    "    def fit(self, X, y):\n",
    "        n_samples, n_features = X.shape\n",
    "\n",
    "        self.weights = np.zeros(n_features)\n",
    "        self.bias = 0\n",
    "\n",
    "        y = np.array([1 if i > 0 else 0 for i in y])\n",
    "\n",
    "        for _ in range(self.iters):\n",
    "            for i, xi in enumerate(X):\n",
    "                linear_output = np.dot(xi, self.weights) + self.bias\n",
    "                y_pred = self.activation_func(linear_output)\n",
    "\n",
    "                update = self.eta * (y[i] - y_pred)\n",
    "\n",
    "                self.weights += update * xi\n",
    "                self.bias = update\n",
    "\n",
    "    def predict(self, X):\n",
    "        linear_output = np.dot(X, self.weights) + self.bias\n",
    "        y_pred = self.activation_func(linear_output)\n",
    "        return y_pred\n"
   ]
  },
  {
   "cell_type": "code",
   "execution_count": 4,
   "metadata": {},
   "outputs": [
    {
     "name": "stderr",
     "output_type": "stream",
     "text": [
      "C:\\Users\\Jass\\AppData\\Local\\Temp\\ipykernel_15248\\929790302.py:8: RuntimeWarning: overflow encountered in exp\n",
      "  return np.where(1/(1 + np.exp(-x)) >= 0.5, 1, 0)\n"
     ]
    },
    {
     "name": "stdout",
     "output_type": "stream",
     "text": [
      "accuracy score 1:  0.6754385964912281\n",
      "accuracy score 2:  0.3508771929824561\n",
      "accuracy score 3:  0.6754385964912281\n"
     ]
    }
   ],
   "source": [
    "wbc = load_breast_cancer()\n",
    "X = wbc.data\n",
    "y = wbc.target\n",
    "\n",
    "X_train, X_test, y_train, y_test = train_test_split(\n",
    "    X, y, test_size=0.2\n",
    ")\n",
    "\n",
    "p = Perceptron(eta=0.01, iters=1000, activation_func=unit_step_func)\n",
    "p.fit(X_train, y_train)\n",
    "y_pred = p.predict(X_test)\n",
    "\n",
    "p2 = Perceptron(eta=0.01, iters=1000, activation_func=ReLU)\n",
    "p2.fit(X_train, y_train)\n",
    "y_pred2 = p2.predict(X_test)\n",
    "\n",
    "p3 = Perceptron(eta=0.01, iters=1000, activation_func=sigmoid)\n",
    "p3.fit(X_train, y_train)\n",
    "y_pred3 = p3.predict(X_test)\n",
    "\n",
    "from sklearn.metrics import accuracy_score\n",
    "\n",
    "print(\"accuracy score 1: \", accuracy_score(y_test, y_pred))\n",
    "print(\"accuracy score 2: \", accuracy_score(y_test, y_pred2))\n",
    "print(\"accuracy score 3: \", accuracy_score(y_test, y_pred3))"
   ]
  },
  {
   "cell_type": "code",
   "execution_count": null,
   "metadata": {},
   "outputs": [],
   "source": []
  }
 ],
 "metadata": {
  "kernelspec": {
   "display_name": "Python 3.10.7 64-bit",
   "language": "python",
   "name": "python3"
  },
  "language_info": {
   "codemirror_mode": {
    "name": "ipython",
    "version": 3
   },
   "file_extension": ".py",
   "mimetype": "text/x-python",
   "name": "python",
   "nbconvert_exporter": "python",
   "pygments_lexer": "ipython3",
   "version": "3.10.7"
  },
  "orig_nbformat": 4,
  "vscode": {
   "interpreter": {
    "hash": "0e933090af324390cd16d312b5b8672141890d286cba2a9666ef4fc060e7af30"
   }
  }
 },
 "nbformat": 4,
 "nbformat_minor": 2
}
