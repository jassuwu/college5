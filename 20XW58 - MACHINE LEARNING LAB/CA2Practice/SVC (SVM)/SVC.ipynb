{
 "cells": [
  {
   "cell_type": "code",
   "execution_count": 4,
   "metadata": {},
   "outputs": [
    {
     "name": "stdout",
     "output_type": "stream",
     "text": [
      "              Specs          Score\n",
      "23       worst area  112598.431564\n",
      "3         mean area   53991.655924\n",
      "13       area error    8758.504705\n",
      "22  worst perimeter    3665.035416\n",
      "2    mean perimeter    2011.102864\n",
      "20     worst radius     491.689157\n",
      "0       mean radius     266.104917\n",
      "12  perimeter error     250.571896\n",
      "21    worst texture     174.449400\n",
      "1      mean texture      93.897508\n",
      "AccSco:  0.9649122807017544 \n",
      "ConMat:  [[44  3]\n",
      " [ 1 66]] \n",
      "ClaRep:                precision    recall  f1-score   support\n",
      "\n",
      "           0       0.98      0.94      0.96        47\n",
      "           1       0.96      0.99      0.97        67\n",
      "\n",
      "    accuracy                           0.96       114\n",
      "   macro avg       0.97      0.96      0.96       114\n",
      "weighted avg       0.97      0.96      0.96       114\n",
      "\n"
     ]
    }
   ],
   "source": [
    "import numpy as np\n",
    "import pandas as pd\n",
    "import matplotlib.pyplot as plt\n",
    "\n",
    "from sklearn.datasets import  load_breast_cancer\n",
    "from sklearn.preprocessing import LabelEncoder, normalize\n",
    "from sklearn.feature_selection import SelectKBest, chi2\n",
    "from sklearn.model_selection import train_test_split\n",
    "from sklearn.svm import SVC\n",
    "from sklearn.metrics import accuracy_score, confusion_matrix,  classification_report\n",
    "\n",
    "\n",
    "bc = load_breast_cancer()\n",
    "\n",
    "X = bc.data\n",
    "y = bc.target\n",
    "\n",
    "bestFeatures = SelectKBest(score_func=chi2, k=10)\n",
    "fit = bestFeatures.fit(X,y)\n",
    "bcScores = pd.DataFrame(fit.scores_)\n",
    "bcColumns = pd.DataFrame(bc.feature_names)\n",
    "\n",
    "fb = pd.concat([bcColumns, bcScores], axis=1)\n",
    "fb.columns=['Specs', 'Score']\n",
    "print(fb.nlargest(10, 'Score'))\n",
    "\n",
    "X_train, X_test, y_train, y_test = train_test_split(X, y, test_size=0.2)\n",
    "\n",
    "svc = SVC(kernel='linear')\n",
    "svc.fit(X_train, y_train)\n",
    "y_pred = svc.predict(X_test)\n",
    "print(\"AccSco: \", accuracy_score(y_test, y_pred), \"\\nConMat: \", confusion_matrix(y_test, y_pred), \"\\nClaRep: \", classification_report(y_test, y_pred))"
   ]
  },
  {
   "cell_type": "code",
   "execution_count": null,
   "metadata": {},
   "outputs": [],
   "source": []
  }
 ],
 "metadata": {
  "kernelspec": {
   "display_name": "Python 3.10.7 64-bit",
   "language": "python",
   "name": "python3"
  },
  "language_info": {
   "codemirror_mode": {
    "name": "ipython",
    "version": 3
   },
   "file_extension": ".py",
   "mimetype": "text/x-python",
   "name": "python",
   "nbconvert_exporter": "python",
   "pygments_lexer": "ipython3",
   "version": "3.10.7"
  },
  "orig_nbformat": 4,
  "vscode": {
   "interpreter": {
    "hash": "0e933090af324390cd16d312b5b8672141890d286cba2a9666ef4fc060e7af30"
   }
  }
 },
 "nbformat": 4,
 "nbformat_minor": 2
}
